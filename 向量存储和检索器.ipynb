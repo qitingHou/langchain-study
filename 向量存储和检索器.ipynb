{
 "cells": [
  {
   "cell_type": "markdown",
   "id": "fefb90ad-2246-481b-8331-3820d53a6597",
   "metadata": {},
   "source": [
    "## 使用GPT_API_free获得密钥"
   ]
  },
  {
   "cell_type": "code",
   "execution_count": 10,
   "id": "6a8eb415-b590-4231-8016-155e893844d8",
   "metadata": {},
   "outputs": [],
   "source": [
    "import getpass\n",
    "import os\n",
    "import langchain\n",
    "from langchain.schema.messages import HumanMessage, SystemMessage,AIMessage\n",
    "from langchain_openai import ChatOpenAI\n",
    "\n",
    "from openai import OpenAI\n",
    "client = OpenAI(\n",
    "    # defaults to os.environ.get(\"OPENAI_API_KEY\")\n",
    "    api_key=\"OPENAI-API-KEY\",\n",
    "    # base_url=https://api.chatanywhere.tech/v1\"\n",
    ")\n",
    "model = ChatOpenAI(model=\"gpt-3.5-turbo\")"
   ]
  },
  {
   "cell_type": "code",
   "execution_count": 11,
   "id": "d0087c7b-11ef-4151-a877-c0cc92ec3c4e",
   "metadata": {},
   "outputs": [
    {
     "data": {
      "text/plain": [
       "AIMessage(content='中国共有34个省级行政区，其中包括23个省、5个自治区、4个直辖市和2个特别行政区。', additional_kwargs={'refusal': None}, response_metadata={'token_usage': {'completion_tokens': 39, 'prompt_tokens': 23, 'total_tokens': 62, 'completion_tokens_details': {'accepted_prediction_tokens': None, 'audio_tokens': 0, 'reasoning_tokens': 0, 'rejected_prediction_tokens': None}, 'prompt_tokens_details': {'audio_tokens': 0, 'cached_tokens': 0}}, 'model_name': 'gpt-3.5-turbo-0125', 'system_fingerprint': None, 'finish_reason': 'stop', 'logprobs': None}, id='run-acfce28e-6dcc-438a-ad56-4b6c3bb6ace3-0', usage_metadata={'input_tokens': 23, 'output_tokens': 39, 'total_tokens': 62, 'input_token_details': {'audio': 0, 'cache_read': 0}, 'output_token_details': {'audio': 0, 'reasoning': 0}})"
      ]
     },
     "execution_count": 11,
     "metadata": {},
     "output_type": "execute_result"
    }
   ],
   "source": [
    "messages = [\n",
    "    SystemMessage(content=\"用中文回复\"),\n",
    "    HumanMessage(content=\"中国有几个省份\"),\n",
    "]\n",
    "model.invoke(messages)"
   ]
  },
  {
   "cell_type": "markdown",
   "id": "020cd6a7-e947-4053-a2db-137492cbff48",
   "metadata": {},
   "source": [
    "# 向量存储和检索器"
   ]
  },
  {
   "cell_type": "markdown",
   "id": "a4021e4f-480c-4b5d-87aa-21c5cae17970",
   "metadata": {},
   "source": [
    "#### LangChain 实现了一个文档抽象，旨在表示一个文本单元及其相关元数据。它有两个属性：page_content：一个表示内容的字符串；metadata：一个包含任意元数据的字典。"
   ]
  },
  {
   "cell_type": "markdown",
   "id": "049858e6-c7a8-4ded-b48a-992701dde034",
   "metadata": {},
   "source": [
    "#### metadata 属性可以捕获有关文档来源、与其他文档的关系以及其他信息。请注意，单个 Document 对象通常表示一个较大文档的一部分。"
   ]
  },
  {
   "cell_type": "code",
   "execution_count": 12,
   "id": "130c5c37-b5ae-4620-ba19-1ae0c78ed0f1",
   "metadata": {},
   "outputs": [],
   "source": [
    "from langchain_core.documents import Document\n",
    "documents = [\n",
    "    Document(\n",
    "        page_content=\"Dogs are great companions, known for their loyalty and friendliness.\",#包含了关于某个宠物的信息。\n",
    "        metadata={\"source\": \"mammal-pets-doc\"},#包含该文档的元数据，在这里显示的是该文档的来源（source）。\n",
    "    ),\n",
    "    Document(\n",
    "        page_content=\"Cats are independent pets that often enjoy their own space.\",\n",
    "        metadata={\"source\": \"mammal-pets-doc\"},\n",
    "    ),\n",
    "    Document(\n",
    "        page_content=\"Goldfish are popular pets for beginners, requiring relatively simple care.\",\n",
    "        metadata={\"source\": \"fish-pets-doc\"},\n",
    "    ),\n",
    "    Document(\n",
    "        page_content=\"Parrots are intelligent birds capable of mimicking human speech.\",\n",
    "        metadata={\"source\": \"bird-pets-doc\"},\n",
    "    ),\n",
    "    Document(\n",
    "        page_content=\"Rabbits are social animals that need plenty of space to hop around.\",\n",
    "        metadata={\"source\": \"mammal-pets-doc\"},\n",
    "    ),\n",
    "]"
   ]
  },
  {
   "cell_type": "markdown",
   "id": "d8fc39b0-2103-4c0b-bf4e-05813c5fbc0b",
   "metadata": {},
   "source": [
    "#### 在这里生成了五个文档，包含指示三个不同“来源”的元数据。"
   ]
  },
  {
   "cell_type": "markdown",
   "id": "b2a67dfb-eb62-4e2d-bc7a-5a489571742f",
   "metadata": {},
   "source": [
    "## 向量存储"
   ]
  },
  {
   "cell_type": "markdown",
   "id": "5ff32499-9187-477e-a026-d02eb388a59a",
   "metadata": {},
   "source": [
    "#### 向量搜索是一种常见的存储和搜索非结构化数据（例如非结构化文本）的方法。其思想是存储与文本相关联的数值向量。给定一个查询，可以将其嵌入为相同维度的向量，并使用向量相似性度量来识别存储中的相关数据。LangChain 向量存储对象包含用于将文本和文档对象添加到存储中以及使用各种相似性度量进行查询的方法。它们通常使用嵌入模型进行初始化，这决定了文本数据如何转换为数值向量。LangChain 包含与不同向量存储技术的集成套件。一些向量存储由提供商（例如各种云提供商）托管，并需要特定的凭据才能使用；一些（如 Postgres）在可以本地运行或通过第三方运行的独立基础设施中运行；其他可以在内存中运行以处理轻量级工作负载。这里使用Chroma的LangChain 向量存储，它包括一个内存实现。要实例化一个向量存储，通常需要提供一个嵌入模型，以指定文本应如何转换为数值向量。这里我们将使用OpenAI嵌入。"
   ]
  },
  {
   "cell_type": "code",
   "execution_count": 13,
   "id": "71674782-4a43-4bef-998e-1703e440507e",
   "metadata": {},
   "outputs": [],
   "source": [
    "from langchain_chroma import Chroma\n",
    "from langchain_openai import OpenAIEmbeddings\n",
    "vectorstore = Chroma.from_documents(\n",
    "    documents,\n",
    "    embedding=OpenAIEmbeddings(),\n",
    ")"
   ]
  },
  {
   "cell_type": "markdown",
   "id": "f66d188e-6185-498d-b05c-90b215474fbc",
   "metadata": {},
   "source": [
    "#### 调用  .from_documents  将把文档添加到向量存储中。向量存储实现了可以在对象实例化后调用的添加文档的方法。大多数实现将允许您连接到现有的向量存储——例如，通过提供客户端、索引名称或其他信息。"
   ]
  },
  {
   "cell_type": "markdown",
   "id": "3884b70c-d76f-49ef-889a-182df5ecce40",
   "metadata": {},
   "source": [
    "#### 一旦实例化了一个包含文档的向量存储，就可以对其进行查询。向量存储包含用于查询的方法："
   ]
  },
  {
   "cell_type": "markdown",
   "id": "a1ef4815-1a52-47bd-a2c6-c8c0d13491a9",
   "metadata": {},
   "source": [
    "1.同步和异步；2.通过字符串查询和通过向量；3.有和没有返回相似性分数；4.通过相似性和最大边际相关性（以平衡查询的相似性与检索结果的多样性）。这些方法的输出通常会包含文档对象的列表。"
   ]
  },
  {
   "cell_type": "markdown",
   "id": "8cce3ea2-5e56-4d59-8265-199767b72f40",
   "metadata": {},
   "source": [
    "#### 根据与字符串查询的相似性返回文档：在执行相似度搜索时，返回的分数（score）或距离（distance）可能根据不同的提供商（例如 Chroma）而有所不同。具体来说，Chroma 返回的距离度量是与相似度成反比的，也就是说：距离越小，表示查询项与文档之间的相似度越高；距离越大，表示相似度越低。"
   ]
  },
  {
   "cell_type": "code",
   "execution_count": 14,
   "id": "9cfe80e2-8a32-4c32-ad17-4b269ed8b5a8",
   "metadata": {},
   "outputs": [
    {
     "data": {
      "text/plain": [
       "[(Document(metadata={'source': 'mammal-pets-doc'}, page_content='Cats are independent pets that often enjoy their own space.'),\n",
       "  0.37521976232528687),\n",
       " (Document(metadata={'source': 'mammal-pets-doc'}, page_content='Dogs are great companions, known for their loyalty and friendliness.'),\n",
       "  0.48278287053108215),\n",
       " (Document(metadata={'source': 'mammal-pets-doc'}, page_content='Rabbits are social animals that need plenty of space to hop around.'),\n",
       "  0.49597978591918945),\n",
       " (Document(metadata={'source': 'bird-pets-doc'}, page_content='Parrots are intelligent birds capable of mimicking human speech.'),\n",
       "  0.4974355101585388)]"
      ]
     },
     "execution_count": 14,
     "metadata": {},
     "output_type": "execute_result"
    }
   ],
   "source": [
    "vectorstore.similarity_search_with_score(\"cat\")"
   ]
  },
  {
   "cell_type": "markdown",
   "id": "e73c0d41-2d1e-41f8-b47f-c0ecc1c7bdab",
   "metadata": {},
   "source": [
    "因此可以看出与 page_content='Cats are independent pets that often enjoy their own space.'之间的相似度更高 "
   ]
  },
  {
   "cell_type": "markdown",
   "id": "66e44ea3-fb2a-4ddc-811d-ae3b60324fc4",
   "metadata": {},
   "source": [
    "#### 异步查询"
   ]
  },
  {
   "cell_type": "code",
   "execution_count": 15,
   "id": "b0228b31-5d90-4403-a9d5-ae284b892f46",
   "metadata": {},
   "outputs": [
    {
     "data": {
      "text/plain": [
       "[Document(metadata={'source': 'mammal-pets-doc'}, page_content='Cats are independent pets that often enjoy their own space.'),\n",
       " Document(metadata={'source': 'mammal-pets-doc'}, page_content='Dogs are great companions, known for their loyalty and friendliness.'),\n",
       " Document(metadata={'source': 'mammal-pets-doc'}, page_content='Rabbits are social animals that need plenty of space to hop around.'),\n",
       " Document(metadata={'source': 'bird-pets-doc'}, page_content='Parrots are intelligent birds capable of mimicking human speech.')]"
      ]
     },
     "execution_count": 15,
     "metadata": {},
     "output_type": "execute_result"
    }
   ],
   "source": [
    "await vectorstore.asimilarity_search(\"cat\")"
   ]
  },
  {
   "cell_type": "markdown",
   "id": "4452a4c2-51eb-447e-b665-36d8f426cacc",
   "metadata": {},
   "source": [
    "#### 根据与嵌入查询的相似性返回文档："
   ]
  },
  {
   "cell_type": "code",
   "execution_count": 16,
   "id": "f01221a3-a44d-41a6-8f07-c2c3c3a35d3f",
   "metadata": {},
   "outputs": [
    {
     "data": {
      "text/plain": [
       "[Document(metadata={'source': 'mammal-pets-doc'}, page_content='Cats are independent pets that often enjoy their own space.'),\n",
       " Document(metadata={'source': 'mammal-pets-doc'}, page_content='Dogs are great companions, known for their loyalty and friendliness.'),\n",
       " Document(metadata={'source': 'mammal-pets-doc'}, page_content='Rabbits are social animals that need plenty of space to hop around.'),\n",
       " Document(metadata={'source': 'bird-pets-doc'}, page_content='Parrots are intelligent birds capable of mimicking human speech.')]"
      ]
     },
     "execution_count": 16,
     "metadata": {},
     "output_type": "execute_result"
    }
   ],
   "source": [
    "embedding = OpenAIEmbeddings().embed_query(\"cat\")\n",
    "vectorstore.similarity_search_by_vector(embedding)"
   ]
  },
  {
   "cell_type": "markdown",
   "id": "d9eb46d8-7b91-44c3-b905-24b821c245df",
   "metadata": {},
   "source": [
    "## 检索器"
   ]
  },
  {
   "cell_type": "markdown",
   "id": "ce5244c0-2f90-49c0-bc9a-c748239f524f",
   "metadata": {},
   "source": [
    "#### LangChain VectorStore对象不继承Runnable，因此无法立即集成到LangChain表达式chains中。LangChain检索器是Runnables，因此它们实现了一组标准方法（例如，同步和异步的invoke和batch操作），并设计为可以纳入LCEL链中。我们可以自己创建一个简单版本，而无需继承Retriever。如果选择希望用于检索文档的方法，可以轻松创建一个可运行的对象。下面围绕 similarity_search 方法构建一个："
   ]
  },
  {
   "cell_type": "code",
   "execution_count": 17,
   "id": "34f84ed6-0157-41b5-8abe-d9651f650532",
   "metadata": {},
   "outputs": [
    {
     "data": {
      "text/plain": [
       "[[Document(metadata={'source': 'mammal-pets-doc'}, page_content='Cats are independent pets that often enjoy their own space.')],\n",
       " [Document(metadata={'source': 'fish-pets-doc'}, page_content='Goldfish are popular pets for beginners, requiring relatively simple care.')]]"
      ]
     },
     "execution_count": 17,
     "metadata": {},
     "output_type": "execute_result"
    }
   ],
   "source": [
    "from langchain_core.documents import Document\n",
    "from langchain_core.runnables import RunnableLambda\n",
    "retriever = RunnableLambda(vectorstore.similarity_search).bind(k=1)  # select top result\n",
    "retriever.batch([\"cat\", \"shark\"])"
   ]
  },
  {
   "cell_type": "markdown",
   "id": "2360d987-30a0-4e6b-8163-0ba6410e9832",
   "metadata": {},
   "source": [
    "#### 向量存储实现了一个 as_retriever 方法，该方法将生成一个检索器，特别是一个 VectorStoreRetriever。这些检索器包括特定的 search_type 和search_kwargs 属性，用于识别调用底层向量存储的方法，以及如何对其进行参数化。例如，可以用以下方式复制上述内容："
   ]
  },
  {
   "cell_type": "code",
   "execution_count": 18,
   "id": "da0c8f07-abf6-4ec5-8851-af82ecfc150e",
   "metadata": {},
   "outputs": [
    {
     "data": {
      "text/plain": [
       "[[Document(metadata={'source': 'mammal-pets-doc'}, page_content='Cats are independent pets that often enjoy their own space.')],\n",
       " [Document(metadata={'source': 'fish-pets-doc'}, page_content='Goldfish are popular pets for beginners, requiring relatively simple care.')]]"
      ]
     },
     "execution_count": 18,
     "metadata": {},
     "output_type": "execute_result"
    }
   ],
   "source": [
    "retriever = vectorstore.as_retriever(\n",
    "    search_type=\"similarity\",\n",
    "    search_kwargs={\"k\": 1},\n",
    ")\n",
    "retriever.batch([\"cat\", \"shark\"])"
   ]
  },
  {
   "cell_type": "markdown",
   "id": "23e7ab89-d168-49c6-b361-63da888fa067",
   "metadata": {},
   "source": [
    "#### 检索器可以轻松地纳入更复杂的应用程序，例如检索增强生成（RAG）应用程序，这些应用程序将给定问题与检索到的上下文结合成 LLM 的提示。"
   ]
  },
  {
   "cell_type": "code",
   "execution_count": 19,
   "id": "98f29ff8-e9d9-4206-b4a0-33addd8f294f",
   "metadata": {},
   "outputs": [],
   "source": [
    "from langchain_core.prompts import ChatPromptTemplate  #ChatPromptTemplate用来创建与 LLM 交互的提示模板。\n",
    "from langchain_core.runnables import RunnablePassthrough  #RunnablePassthrough用于简单的无修改传递数据。\n",
    "\n",
    "llm = ChatOpenAI(model=\"gpt-3.5-turbo\")\n",
    "message = \"\"\"\n",
    "Answer this question using the provided context only.\n",
    "\n",
    "{question}\n",
    "\n",
    "Context:\n",
    "{context}\n",
    "\"\"\"\n",
    "prompt = ChatPromptTemplate.from_messages([(\"human\", message)])\n",
    "rag_chain = {\"context\": retriever, \"question\": RunnablePassthrough()} | prompt | llm"
   ]
  },
  {
   "cell_type": "code",
   "execution_count": 20,
   "id": "91e606f3-3cac-4a71-bed2-c3ccbaa46099",
   "metadata": {},
   "outputs": [
    {
     "name": "stdout",
     "output_type": "stream",
     "text": [
      "Dogs are great companions, known for their loyalty and friendliness.\n"
     ]
    }
   ],
   "source": [
    "response = rag_chain.invoke(\"tell me about dog\")\n",
    "print(response.content)"
   ]
  }
 ],
 "metadata": {
  "kernelspec": {
   "display_name": "Python 3 (ipykernel)",
   "language": "python",
   "name": "python3"
  },
  "language_info": {
   "codemirror_mode": {
    "name": "ipython",
    "version": 3
   },
   "file_extension": ".py",
   "mimetype": "text/x-python",
   "name": "python",
   "nbconvert_exporter": "python",
   "pygments_lexer": "ipython3",
   "version": "3.10.16"
  }
 },
 "nbformat": 4,
 "nbformat_minor": 5
}
