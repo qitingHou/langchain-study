{
 "cells": [
  {
   "cell_type": "markdown",
   "id": "930d657f-4744-4fc7-b204-8faf0305f064",
   "metadata": {},
   "source": [
    "## 使用GPT_API_free获得密钥"
   ]
  },
  {
   "cell_type": "code",
   "execution_count": 1,
   "id": "498271b0-ba60-434e-aadf-b87cf7514d07",
   "metadata": {},
   "outputs": [],
   "source": [
    "import getpass\n",
    "import os\n",
    "import langchain\n",
    "from langchain.schema.messages import HumanMessage, SystemMessage,AIMessage\n",
    "from langchain_openai import ChatOpenAI\n",
    "\n",
    "from openai import OpenAI\n",
    "client = OpenAI(\n",
    "    # defaults to os.environ.get(\"OPENAI_API_KEY\")\n",
    "    api_key=\"OPENAI-API-KEY\",\n",
    "    # base_url=https://api.chatanywhere.tech/v1\"\n",
    ")\n",
    "model = ChatOpenAI(model=\"gpt-3.5-turbo\")"
   ]
  },
  {
   "cell_type": "code",
   "execution_count": 2,
   "id": "d3fd1661-039a-4c30-a7f0-85377576f532",
   "metadata": {},
   "outputs": [
    {
     "data": {
      "text/plain": [
       "AIMessage(content='中国共有34个省级行政区域，包括23个省、5个自治区、4个直辖市和2个特别行政区。', additional_kwargs={'refusal': None}, response_metadata={'token_usage': {'completion_tokens': 40, 'prompt_tokens': 23, 'total_tokens': 63, 'completion_tokens_details': None, 'prompt_tokens_details': None}, 'model_name': 'gpt-3.5-turbo', 'system_fingerprint': 'fp_0165350fbb', 'finish_reason': 'stop', 'logprobs': None}, id='run-986f2cdd-133a-449d-8470-2ec883814df1-0', usage_metadata={'input_tokens': 23, 'output_tokens': 40, 'total_tokens': 63, 'input_token_details': {}, 'output_token_details': {}})"
      ]
     },
     "execution_count": 2,
     "metadata": {},
     "output_type": "execute_result"
    }
   ],
   "source": [
    "messages = [\n",
    "    SystemMessage(content=\"用中文回复\"),\n",
    "    HumanMessage(content=\"中国有几个省份\"),\n",
    "]\n",
    "model.invoke(messages)"
   ]
  },
  {
   "cell_type": "markdown",
   "id": "27cbe3fb-7a51-472d-9078-b6860511ee9b",
   "metadata": {},
   "source": [
    "# 构建一个代理"
   ]
  },
  {
   "cell_type": "markdown",
   "id": "d8f6738d-611b-40f7-8d43-b753175e32bf",
   "metadata": {},
   "source": [
    "#### 在 LangChain 中，Agent 是一种强大的工具，能够自动化决策过程，选择并使用不同的工具来处理给定的任务。LangChain 的代理通过与LLM结合，可以进行多步骤的任务处理，并能动态地根据上下文和任务需求选择合适的工具或操作，从而完成更复杂的任务。"
   ]
  },
  {
   "cell_type": "markdown",
   "id": "9243127f-4bf1-440d-a292-397bc4f77378",
   "metadata": {},
   "source": [
    "下面的代码片段表示一个完全功能的代理，它使用LLM来决定使用哪些工具，配备了一个通用搜索工具，并且具有对话记忆。-这意味着它可以作为一个多轮聊天机器人使用。"
   ]
  },
  {
   "cell_type": "code",
   "execution_count": 3,
   "id": "63c8a4e7-a3f6-48ce-bdc8-37a57500bc16",
   "metadata": {},
   "outputs": [
    {
     "name": "stdout",
     "output_type": "stream",
     "text": [
      "Looking in indexes: https://mirrors.tuna.tsinghua.edu.cn/pypi/web/simple\n",
      "Requirement already satisfied: langchain in d:\\anaconda\\envs\\langchain\\lib\\site-packages (0.3.14)\n",
      "Requirement already satisfied: langchain-anthropic in d:\\anaconda\\envs\\langchain\\lib\\site-packages (0.3.1)\n",
      "Requirement already satisfied: langchain-community in d:\\anaconda\\envs\\langchain\\lib\\site-packages (0.3.14)\n",
      "Requirement already satisfied: PyYAML>=5.3 in d:\\anaconda\\envs\\langchain\\lib\\site-packages (from langchain) (6.0.2)\n",
      "Requirement already satisfied: SQLAlchemy<3,>=1.4 in d:\\anaconda\\envs\\langchain\\lib\\site-packages (from langchain) (2.0.36)\n",
      "Requirement already satisfied: aiohttp<4.0.0,>=3.8.3 in d:\\anaconda\\envs\\langchain\\lib\\site-packages (from langchain) (3.11.11)\n",
      "Requirement already satisfied: async-timeout<5.0.0,>=4.0.0 in d:\\anaconda\\envs\\langchain\\lib\\site-packages (from langchain) (4.0.3)\n",
      "Requirement already satisfied: langchain-core<0.4.0,>=0.3.29 in d:\\anaconda\\envs\\langchain\\lib\\site-packages (from langchain) (0.3.29)\n",
      "Requirement already satisfied: langchain-text-splitters<0.4.0,>=0.3.3 in d:\\anaconda\\envs\\langchain\\lib\\site-packages (from langchain) (0.3.4)\n",
      "Requirement already satisfied: langsmith<0.3,>=0.1.17 in d:\\anaconda\\envs\\langchain\\lib\\site-packages (from langchain) (0.2.4)\n",
      "Requirement already satisfied: numpy<2,>=1.22.4 in d:\\anaconda\\envs\\langchain\\lib\\site-packages (from langchain) (1.26.4)\n",
      "Requirement already satisfied: pydantic<3.0.0,>=2.7.4 in d:\\anaconda\\envs\\langchain\\lib\\site-packages (from langchain) (2.10.4)\n",
      "Requirement already satisfied: requests<3,>=2 in d:\\anaconda\\envs\\langchain\\lib\\site-packages (from langchain) (2.32.3)\n",
      "Requirement already satisfied: tenacity!=8.4.0,<10,>=8.1.0 in d:\\anaconda\\envs\\langchain\\lib\\site-packages (from langchain) (9.0.0)\n",
      "Requirement already satisfied: anthropic<1,>=0.41.0 in d:\\anaconda\\envs\\langchain\\lib\\site-packages (from langchain-anthropic) (0.42.0)\n",
      "Requirement already satisfied: defusedxml<0.8.0,>=0.7.1 in d:\\anaconda\\envs\\langchain\\lib\\site-packages (from langchain-anthropic) (0.7.1)\n",
      "Requirement already satisfied: dataclasses-json<0.7,>=0.5.7 in d:\\anaconda\\envs\\langchain\\lib\\site-packages (from langchain-community) (0.6.7)\n",
      "Requirement already satisfied: httpx-sse<0.5.0,>=0.4.0 in d:\\anaconda\\envs\\langchain\\lib\\site-packages (from langchain-community) (0.4.0)\n",
      "Requirement already satisfied: pydantic-settings<3.0.0,>=2.4.0 in d:\\anaconda\\envs\\langchain\\lib\\site-packages (from langchain-community) (2.7.0)\n",
      "Requirement already satisfied: aiohappyeyeballs>=2.3.0 in d:\\anaconda\\envs\\langchain\\lib\\site-packages (from aiohttp<4.0.0,>=3.8.3->langchain) (2.4.4)\n",
      "Requirement already satisfied: aiosignal>=1.1.2 in d:\\anaconda\\envs\\langchain\\lib\\site-packages (from aiohttp<4.0.0,>=3.8.3->langchain) (1.3.2)\n",
      "Requirement already satisfied: attrs>=17.3.0 in d:\\anaconda\\envs\\langchain\\lib\\site-packages (from aiohttp<4.0.0,>=3.8.3->langchain) (24.3.0)\n",
      "Requirement already satisfied: frozenlist>=1.1.1 in d:\\anaconda\\envs\\langchain\\lib\\site-packages (from aiohttp<4.0.0,>=3.8.3->langchain) (1.5.0)\n",
      "Requirement already satisfied: multidict<7.0,>=4.5 in d:\\anaconda\\envs\\langchain\\lib\\site-packages (from aiohttp<4.0.0,>=3.8.3->langchain) (6.1.0)\n",
      "Requirement already satisfied: propcache>=0.2.0 in d:\\anaconda\\envs\\langchain\\lib\\site-packages (from aiohttp<4.0.0,>=3.8.3->langchain) (0.2.1)\n",
      "Requirement already satisfied: yarl<2.0,>=1.17.0 in d:\\anaconda\\envs\\langchain\\lib\\site-packages (from aiohttp<4.0.0,>=3.8.3->langchain) (1.18.3)\n",
      "Requirement already satisfied: anyio<5,>=3.5.0 in d:\\anaconda\\envs\\langchain\\lib\\site-packages (from anthropic<1,>=0.41.0->langchain-anthropic) (4.7.0)\n",
      "Requirement already satisfied: distro<2,>=1.7.0 in d:\\anaconda\\envs\\langchain\\lib\\site-packages (from anthropic<1,>=0.41.0->langchain-anthropic) (1.9.0)\n",
      "Requirement already satisfied: httpx<1,>=0.23.0 in d:\\anaconda\\envs\\langchain\\lib\\site-packages (from anthropic<1,>=0.41.0->langchain-anthropic) (0.28.1)\n",
      "Requirement already satisfied: jiter<1,>=0.4.0 in d:\\anaconda\\envs\\langchain\\lib\\site-packages (from anthropic<1,>=0.41.0->langchain-anthropic) (0.8.2)\n",
      "Requirement already satisfied: sniffio in d:\\anaconda\\envs\\langchain\\lib\\site-packages (from anthropic<1,>=0.41.0->langchain-anthropic) (1.3.1)\n",
      "Requirement already satisfied: typing-extensions<5,>=4.10 in d:\\anaconda\\envs\\langchain\\lib\\site-packages (from anthropic<1,>=0.41.0->langchain-anthropic) (4.12.2)\n",
      "Requirement already satisfied: marshmallow<4.0.0,>=3.18.0 in d:\\anaconda\\envs\\langchain\\lib\\site-packages (from dataclasses-json<0.7,>=0.5.7->langchain-community) (3.23.2)\n",
      "Requirement already satisfied: typing-inspect<1,>=0.4.0 in d:\\anaconda\\envs\\langchain\\lib\\site-packages (from dataclasses-json<0.7,>=0.5.7->langchain-community) (0.9.0)\n",
      "Requirement already satisfied: jsonpatch<2.0,>=1.33 in d:\\anaconda\\envs\\langchain\\lib\\site-packages (from langchain-core<0.4.0,>=0.3.29->langchain) (1.33)\n",
      "Requirement already satisfied: packaging<25,>=23.2 in d:\\anaconda\\envs\\langchain\\lib\\site-packages (from langchain-core<0.4.0,>=0.3.29->langchain) (24.2)\n",
      "Requirement already satisfied: orjson<4.0.0,>=3.9.14 in d:\\anaconda\\envs\\langchain\\lib\\site-packages (from langsmith<0.3,>=0.1.17->langchain) (3.10.12)\n",
      "Requirement already satisfied: requests-toolbelt<2.0.0,>=1.0.0 in d:\\anaconda\\envs\\langchain\\lib\\site-packages (from langsmith<0.3,>=0.1.17->langchain) (1.0.0)\n",
      "Requirement already satisfied: annotated-types>=0.6.0 in d:\\anaconda\\envs\\langchain\\lib\\site-packages (from pydantic<3.0.0,>=2.7.4->langchain) (0.7.0)\n",
      "Requirement already satisfied: pydantic-core==2.27.2 in d:\\anaconda\\envs\\langchain\\lib\\site-packages (from pydantic<3.0.0,>=2.7.4->langchain) (2.27.2)\n",
      "Requirement already satisfied: python-dotenv>=0.21.0 in d:\\anaconda\\envs\\langchain\\lib\\site-packages (from pydantic-settings<3.0.0,>=2.4.0->langchain-community) (1.0.1)\n",
      "Requirement already satisfied: charset_normalizer<4,>=2 in d:\\anaconda\\envs\\langchain\\lib\\site-packages (from requests<3,>=2->langchain) (3.4.0)\n",
      "Requirement already satisfied: idna<4,>=2.5 in d:\\anaconda\\envs\\langchain\\lib\\site-packages (from requests<3,>=2->langchain) (3.10)\n",
      "Requirement already satisfied: urllib3<3,>=1.21.1 in d:\\anaconda\\envs\\langchain\\lib\\site-packages (from requests<3,>=2->langchain) (2.3.0)\n",
      "Requirement already satisfied: certifi>=2017.4.17 in d:\\anaconda\\envs\\langchain\\lib\\site-packages (from requests<3,>=2->langchain) (2024.12.14)\n",
      "Requirement already satisfied: greenlet!=0.4.17 in d:\\anaconda\\envs\\langchain\\lib\\site-packages (from SQLAlchemy<3,>=1.4->langchain) (3.1.1)\n",
      "Requirement already satisfied: exceptiongroup>=1.0.2 in d:\\anaconda\\envs\\langchain\\lib\\site-packages (from anyio<5,>=3.5.0->anthropic<1,>=0.41.0->langchain-anthropic) (1.2.2)\n",
      "Requirement already satisfied: httpcore==1.* in d:\\anaconda\\envs\\langchain\\lib\\site-packages (from httpx<1,>=0.23.0->anthropic<1,>=0.41.0->langchain-anthropic) (1.0.7)\n",
      "Requirement already satisfied: h11<0.15,>=0.13 in d:\\anaconda\\envs\\langchain\\lib\\site-packages (from httpcore==1.*->httpx<1,>=0.23.0->anthropic<1,>=0.41.0->langchain-anthropic) (0.14.0)\n",
      "Requirement already satisfied: jsonpointer>=1.9 in d:\\anaconda\\envs\\langchain\\lib\\site-packages (from jsonpatch<2.0,>=1.33->langchain-core<0.4.0,>=0.3.29->langchain) (3.0.0)\n",
      "Requirement already satisfied: mypy-extensions>=0.3.0 in d:\\anaconda\\envs\\langchain\\lib\\site-packages (from typing-inspect<1,>=0.4.0->dataclasses-json<0.7,>=0.5.7->langchain-community) (1.0.0)\n",
      "Note: you may need to restart the kernel to use updated packages.\n"
     ]
    }
   ],
   "source": [
    "%pip install langchain langchain-anthropic langchain-community"
   ]
  },
  {
   "cell_type": "code",
   "execution_count": 4,
   "id": "71a2f9f8-7486-4387-b2f2-360f176d11de",
   "metadata": {},
   "outputs": [
    {
     "name": "stdout",
     "output_type": "stream",
     "text": [
      "Looking in indexes: https://mirrors.tuna.tsinghua.edu.cn/pypi/web/simple\n",
      "Requirement already satisfied: langchain-community in d:\\anaconda\\envs\\langchain\\lib\\site-packages (0.3.14)\n",
      "Requirement already satisfied: langgraph in d:\\anaconda\\envs\\langchain\\lib\\site-packages (0.2.62)\n",
      "Requirement already satisfied: langchain-anthropic in d:\\anaconda\\envs\\langchain\\lib\\site-packages (0.3.1)\n",
      "Requirement already satisfied: tavily-python in d:\\anaconda\\envs\\langchain\\lib\\site-packages (0.5.0)\n",
      "Requirement already satisfied: langgraph-checkpoint-sqlite in d:\\anaconda\\envs\\langchain\\lib\\site-packages (2.0.1)\n",
      "Requirement already satisfied: PyYAML>=5.3 in d:\\anaconda\\envs\\langchain\\lib\\site-packages (from langchain-community) (6.0.2)\n",
      "Requirement already satisfied: SQLAlchemy<3,>=1.4 in d:\\anaconda\\envs\\langchain\\lib\\site-packages (from langchain-community) (2.0.36)\n",
      "Requirement already satisfied: aiohttp<4.0.0,>=3.8.3 in d:\\anaconda\\envs\\langchain\\lib\\site-packages (from langchain-community) (3.11.11)\n",
      "Requirement already satisfied: dataclasses-json<0.7,>=0.5.7 in d:\\anaconda\\envs\\langchain\\lib\\site-packages (from langchain-community) (0.6.7)\n",
      "Requirement already satisfied: httpx-sse<0.5.0,>=0.4.0 in d:\\anaconda\\envs\\langchain\\lib\\site-packages (from langchain-community) (0.4.0)\n",
      "Requirement already satisfied: langchain<0.4.0,>=0.3.14 in d:\\anaconda\\envs\\langchain\\lib\\site-packages (from langchain-community) (0.3.14)\n",
      "Requirement already satisfied: langchain-core<0.4.0,>=0.3.29 in d:\\anaconda\\envs\\langchain\\lib\\site-packages (from langchain-community) (0.3.29)\n",
      "Requirement already satisfied: langsmith<0.3,>=0.1.125 in d:\\anaconda\\envs\\langchain\\lib\\site-packages (from langchain-community) (0.2.4)\n",
      "Requirement already satisfied: numpy<2,>=1.22.4 in d:\\anaconda\\envs\\langchain\\lib\\site-packages (from langchain-community) (1.26.4)\n",
      "Requirement already satisfied: pydantic-settings<3.0.0,>=2.4.0 in d:\\anaconda\\envs\\langchain\\lib\\site-packages (from langchain-community) (2.7.0)\n",
      "Requirement already satisfied: requests<3,>=2 in d:\\anaconda\\envs\\langchain\\lib\\site-packages (from langchain-community) (2.32.3)\n",
      "Requirement already satisfied: tenacity!=8.4.0,<10,>=8.1.0 in d:\\anaconda\\envs\\langchain\\lib\\site-packages (from langchain-community) (9.0.0)\n",
      "Requirement already satisfied: langgraph-checkpoint<3.0.0,>=2.0.4 in d:\\anaconda\\envs\\langchain\\lib\\site-packages (from langgraph) (2.0.9)\n",
      "Requirement already satisfied: langgraph-sdk<0.2.0,>=0.1.42 in d:\\anaconda\\envs\\langchain\\lib\\site-packages (from langgraph) (0.1.48)\n",
      "Requirement already satisfied: anthropic<1,>=0.41.0 in d:\\anaconda\\envs\\langchain\\lib\\site-packages (from langchain-anthropic) (0.42.0)\n",
      "Requirement already satisfied: defusedxml<0.8.0,>=0.7.1 in d:\\anaconda\\envs\\langchain\\lib\\site-packages (from langchain-anthropic) (0.7.1)\n",
      "Requirement already satisfied: pydantic<3.0.0,>=2.7.4 in d:\\anaconda\\envs\\langchain\\lib\\site-packages (from langchain-anthropic) (2.10.4)\n",
      "Requirement already satisfied: tiktoken>=0.5.1 in d:\\anaconda\\envs\\langchain\\lib\\site-packages (from tavily-python) (0.8.0)\n",
      "Requirement already satisfied: httpx in d:\\anaconda\\envs\\langchain\\lib\\site-packages (from tavily-python) (0.28.1)\n",
      "Requirement already satisfied: aiosqlite<0.21.0,>=0.20.0 in d:\\anaconda\\envs\\langchain\\lib\\site-packages (from langgraph-checkpoint-sqlite) (0.20.0)\n",
      "Requirement already satisfied: aiohappyeyeballs>=2.3.0 in d:\\anaconda\\envs\\langchain\\lib\\site-packages (from aiohttp<4.0.0,>=3.8.3->langchain-community) (2.4.4)\n",
      "Requirement already satisfied: aiosignal>=1.1.2 in d:\\anaconda\\envs\\langchain\\lib\\site-packages (from aiohttp<4.0.0,>=3.8.3->langchain-community) (1.3.2)\n",
      "Requirement already satisfied: async-timeout<6.0,>=4.0 in d:\\anaconda\\envs\\langchain\\lib\\site-packages (from aiohttp<4.0.0,>=3.8.3->langchain-community) (4.0.3)\n",
      "Requirement already satisfied: attrs>=17.3.0 in d:\\anaconda\\envs\\langchain\\lib\\site-packages (from aiohttp<4.0.0,>=3.8.3->langchain-community) (24.3.0)\n",
      "Requirement already satisfied: frozenlist>=1.1.1 in d:\\anaconda\\envs\\langchain\\lib\\site-packages (from aiohttp<4.0.0,>=3.8.3->langchain-community) (1.5.0)\n",
      "Requirement already satisfied: multidict<7.0,>=4.5 in d:\\anaconda\\envs\\langchain\\lib\\site-packages (from aiohttp<4.0.0,>=3.8.3->langchain-community) (6.1.0)\n",
      "Requirement already satisfied: propcache>=0.2.0 in d:\\anaconda\\envs\\langchain\\lib\\site-packages (from aiohttp<4.0.0,>=3.8.3->langchain-community) (0.2.1)\n",
      "Requirement already satisfied: yarl<2.0,>=1.17.0 in d:\\anaconda\\envs\\langchain\\lib\\site-packages (from aiohttp<4.0.0,>=3.8.3->langchain-community) (1.18.3)\n",
      "Requirement already satisfied: typing_extensions>=4.0 in d:\\anaconda\\envs\\langchain\\lib\\site-packages (from aiosqlite<0.21.0,>=0.20.0->langgraph-checkpoint-sqlite) (4.12.2)\n",
      "Requirement already satisfied: anyio<5,>=3.5.0 in d:\\anaconda\\envs\\langchain\\lib\\site-packages (from anthropic<1,>=0.41.0->langchain-anthropic) (4.7.0)\n",
      "Requirement already satisfied: distro<2,>=1.7.0 in d:\\anaconda\\envs\\langchain\\lib\\site-packages (from anthropic<1,>=0.41.0->langchain-anthropic) (1.9.0)\n",
      "Requirement already satisfied: jiter<1,>=0.4.0 in d:\\anaconda\\envs\\langchain\\lib\\site-packages (from anthropic<1,>=0.41.0->langchain-anthropic) (0.8.2)\n",
      "Requirement already satisfied: sniffio in d:\\anaconda\\envs\\langchain\\lib\\site-packages (from anthropic<1,>=0.41.0->langchain-anthropic) (1.3.1)\n",
      "Requirement already satisfied: marshmallow<4.0.0,>=3.18.0 in d:\\anaconda\\envs\\langchain\\lib\\site-packages (from dataclasses-json<0.7,>=0.5.7->langchain-community) (3.23.2)\n",
      "Requirement already satisfied: typing-inspect<1,>=0.4.0 in d:\\anaconda\\envs\\langchain\\lib\\site-packages (from dataclasses-json<0.7,>=0.5.7->langchain-community) (0.9.0)\n",
      "Requirement already satisfied: certifi in d:\\anaconda\\envs\\langchain\\lib\\site-packages (from httpx->tavily-python) (2024.12.14)\n",
      "Requirement already satisfied: httpcore==1.* in d:\\anaconda\\envs\\langchain\\lib\\site-packages (from httpx->tavily-python) (1.0.7)\n",
      "Requirement already satisfied: idna in d:\\anaconda\\envs\\langchain\\lib\\site-packages (from httpx->tavily-python) (3.10)\n",
      "Requirement already satisfied: h11<0.15,>=0.13 in d:\\anaconda\\envs\\langchain\\lib\\site-packages (from httpcore==1.*->httpx->tavily-python) (0.14.0)\n",
      "Requirement already satisfied: langchain-text-splitters<0.4.0,>=0.3.3 in d:\\anaconda\\envs\\langchain\\lib\\site-packages (from langchain<0.4.0,>=0.3.14->langchain-community) (0.3.4)\n",
      "Requirement already satisfied: jsonpatch<2.0,>=1.33 in d:\\anaconda\\envs\\langchain\\lib\\site-packages (from langchain-core<0.4.0,>=0.3.29->langchain-community) (1.33)\n",
      "Requirement already satisfied: packaging<25,>=23.2 in d:\\anaconda\\envs\\langchain\\lib\\site-packages (from langchain-core<0.4.0,>=0.3.29->langchain-community) (24.2)\n",
      "Requirement already satisfied: msgpack<2.0.0,>=1.1.0 in d:\\anaconda\\envs\\langchain\\lib\\site-packages (from langgraph-checkpoint<3.0.0,>=2.0.4->langgraph) (1.1.0)\n",
      "Requirement already satisfied: orjson>=3.10.1 in d:\\anaconda\\envs\\langchain\\lib\\site-packages (from langgraph-sdk<0.2.0,>=0.1.42->langgraph) (3.10.12)\n",
      "Requirement already satisfied: requests-toolbelt<2.0.0,>=1.0.0 in d:\\anaconda\\envs\\langchain\\lib\\site-packages (from langsmith<0.3,>=0.1.125->langchain-community) (1.0.0)\n",
      "Requirement already satisfied: annotated-types>=0.6.0 in d:\\anaconda\\envs\\langchain\\lib\\site-packages (from pydantic<3.0.0,>=2.7.4->langchain-anthropic) (0.7.0)\n",
      "Requirement already satisfied: pydantic-core==2.27.2 in d:\\anaconda\\envs\\langchain\\lib\\site-packages (from pydantic<3.0.0,>=2.7.4->langchain-anthropic) (2.27.2)\n",
      "Requirement already satisfied: python-dotenv>=0.21.0 in d:\\anaconda\\envs\\langchain\\lib\\site-packages (from pydantic-settings<3.0.0,>=2.4.0->langchain-community) (1.0.1)\n",
      "Requirement already satisfied: charset_normalizer<4,>=2 in d:\\anaconda\\envs\\langchain\\lib\\site-packages (from requests<3,>=2->langchain-community) (3.4.0)\n",
      "Requirement already satisfied: urllib3<3,>=1.21.1 in d:\\anaconda\\envs\\langchain\\lib\\site-packages (from requests<3,>=2->langchain-community) (2.3.0)\n",
      "Requirement already satisfied: greenlet!=0.4.17 in d:\\anaconda\\envs\\langchain\\lib\\site-packages (from SQLAlchemy<3,>=1.4->langchain-community) (3.1.1)\n",
      "Requirement already satisfied: regex>=2022.1.18 in d:\\anaconda\\envs\\langchain\\lib\\site-packages (from tiktoken>=0.5.1->tavily-python) (2024.11.6)\n",
      "Requirement already satisfied: exceptiongroup>=1.0.2 in d:\\anaconda\\envs\\langchain\\lib\\site-packages (from anyio<5,>=3.5.0->anthropic<1,>=0.41.0->langchain-anthropic) (1.2.2)\n",
      "Requirement already satisfied: jsonpointer>=1.9 in d:\\anaconda\\envs\\langchain\\lib\\site-packages (from jsonpatch<2.0,>=1.33->langchain-core<0.4.0,>=0.3.29->langchain-community) (3.0.0)\n",
      "Requirement already satisfied: mypy-extensions>=0.3.0 in d:\\anaconda\\envs\\langchain\\lib\\site-packages (from typing-inspect<1,>=0.4.0->dataclasses-json<0.7,>=0.5.7->langchain-community) (1.0.0)\n",
      "Note: you may need to restart the kernel to use updated packages.\n"
     ]
    }
   ],
   "source": [
    "%pip install -U langchain-community langgraph langchain-anthropic tavily-python langgraph-checkpoint-sqlite"
   ]
  },
  {
   "cell_type": "markdown",
   "id": "06cc2845-6b2e-4ba5-9d70-4e9000cb13fc",
   "metadata": {},
   "source": [
    "#### 使用 Tavily（一个搜索引擎）作为工具。 使用他需要获取并设置一个API密钥："
   ]
  },
  {
   "cell_type": "code",
   "execution_count": 5,
   "id": "2ed0e10d-6c1d-4b6c-a26b-832f57cc7fa6",
   "metadata": {},
   "outputs": [],
   "source": [
    "os.environ[\"TAVILY_API_KEY\"] = \"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\""
   ]
  },
  {
   "cell_type": "code",
   "execution_count": 6,
   "id": "3fa5ffa3-61df-43df-a5e8-4538184285ea",
   "metadata": {},
   "outputs": [
    {
     "name": "stdout",
     "output_type": "stream",
     "text": [
      "[{'url': 'https://www.weatherapi.com/', 'content': \"{'location': {'name': 'Chongqing', 'region': 'Chongqing', 'country': 'China', 'lat': 29.5628, 'lon': 106.5528, 'tz_id': 'Asia/Shanghai', 'localtime_epoch': 1736745843, 'localtime': '2025-01-13 13:24'}, 'current': {'last_updated_epoch': 1736745300, 'last_updated': '2025-01-13 13:15', 'temp_c': 9.0, 'temp_f': 48.2, 'is_day': 1, 'condition': {'text': 'Mist', 'icon': '//cdn.weatherapi.com/weather/64x64/day/143.png', 'code': 1030}, 'wind_mph': 2.9, 'wind_kph': 4.7, 'wind_degree': 274, 'wind_dir': 'W', 'pressure_mb': 1022.0, 'pressure_in': 30.18, 'precip_mm': 0.0, 'precip_in': 0.0, 'humidity': 87, 'cloud': 0, 'feelslike_c': 8.7, 'feelslike_f': 47.7, 'windchill_c': 13.5, 'windchill_f': 56.4, 'heatindex_c': 13.3, 'heatindex_f': 55.9, 'dewpoint_c': 3.6, 'dewpoint_f': 38.5, 'vis_km': 3.5, 'vis_miles': 2.0, 'uv': 3.1, 'gust_mph': 3.4, 'gust_kph': 5.4}}\"}]\n"
     ]
    }
   ],
   "source": [
    "from langchain_community.tools.tavily_search import TavilySearchResults #Tavily 是一个用于语义搜索的工具，可以根据查询返回相关的搜索结果。\n",
    "search = TavilySearchResults(max_results=1)#创建一个 TavilySearchResults 实例 search，设置每次搜索时最多返回 1 个结果。max_results 参数控制返回结果的数量，以避免过多的返回项。\n",
    "search_results = search.invoke(\"what is the weather in Chongqing\")\n",
    "print(search_results)"
   ]
  },
  {
   "cell_type": "markdown",
   "id": "52b7374f-d4d3-43a0-b3d6-6b3f04c4153a",
   "metadata": {},
   "source": [
    "## 使用语言模型"
   ]
  },
  {
   "cell_type": "code",
   "execution_count": 7,
   "id": "01266eb0-0e5b-4ed0-9fc5-88b6996c47de",
   "metadata": {},
   "outputs": [],
   "source": [
    "import getpass\n",
    "import os\n",
    "from langchain_openai import ChatOpenAI\n",
    "\n",
    "api_key=\"OPENAI-API-KEY\",\n",
    "model = ChatOpenAI(model=\"gpt-3.5-turbo\")"
   ]
  },
  {
   "cell_type": "markdown",
   "id": "1e035c46-f4ec-4784-90a2-33aaa038ef5f",
   "metadata": {},
   "source": [
    "#### 通过传入消息列表来调用语言模型。默认情况下，响应是一个 content 字符串。"
   ]
  },
  {
   "cell_type": "code",
   "execution_count": 8,
   "id": "38b699a2-f67f-40dc-b1c0-1848d66eab47",
   "metadata": {},
   "outputs": [
    {
     "data": {
      "text/plain": [
       "'Hello! How can I assist you today?'"
      ]
     },
     "execution_count": 8,
     "metadata": {},
     "output_type": "execute_result"
    }
   ],
   "source": [
    "from langchain_core.messages import HumanMessage\n",
    "\n",
    "response = model.invoke([HumanMessage(content=\"hi!\")])\n",
    "response.content"
   ]
  },
  {
   "cell_type": "markdown",
   "id": "fc9f2d9c-34cd-48fe-9e7a-c644b6720d51",
   "metadata": {},
   "source": [
    "#### 现在可以看到启用此模型进行工具调用的情况。为了启用这一点，使用 .bind_tools 来让语言模型了解这些工具。"
   ]
  },
  {
   "cell_type": "code",
   "execution_count": 10,
   "id": "d349cf88-ffee-4301-9dfd-54c3a1ce9bcb",
   "metadata": {},
   "outputs": [],
   "source": [
    "from langchain.tools import Tool\n",
    "tools = [\n",
    "    Tool(\n",
    "        name=\"WeatherTool\",  # 工具名称应符合规则：字母、数字、下划线或短横线\n",
    "        func=lambda location: f\"The weather in {location} is sunny.\",  # 工具功能\n",
    "        description=\"Returns weather information for a given location.\"\n",
    "    ),\n",
    "    Tool(\n",
    "        name=\"MathTool\",\n",
    "        func=lambda x: str(eval(x)),  # 进行简单的数学运算\n",
    "        description=\"Performs basic math operations.\"\n",
    "    )\n",
    "]\n",
    "\n",
    "# 将工具绑定到模型\n",
    "model_with_tools = model.bind_tools(tools)"
   ]
  },
  {
   "cell_type": "markdown",
   "id": "05e9bc6d-e2d3-4e29-9880-8dfc84b3d508",
   "metadata": {},
   "source": [
    "#### 现在可以调用模型。我们先用一条普通消息调用它，看看它的响应。我们可以查看 content 字段和 tool_calls 字段。"
   ]
  },
  {
   "cell_type": "code",
   "execution_count": 11,
   "id": "480f6a41-c7ca-45ff-ba38-ce5128ea9a2c",
   "metadata": {},
   "outputs": [
    {
     "name": "stdout",
     "output_type": "stream",
     "text": [
      "ContentString: AI, or artificial intelligence, refers to the simulation of human intelligence processes by machines, especially computer systems. These processes include learning, reasoning, problem-solving, perception, and language understanding. AI is used in various applications such as speech recognition, natural language processing, computer vision, and decision-making.\n",
      "ToolCalls: []\n"
     ]
    }
   ],
   "source": [
    "response = model_with_tools.invoke([HumanMessage(content=\"What is AI?\")])\n",
    "\n",
    "print(f\"ContentString: {response.content}\") #打印模型的回应内容\n",
    "print(f\"ToolCalls: {response.tool_calls}\") #显示模型是否使用了外部工具，以及调用工具的详细信息"
   ]
  },
  {
   "cell_type": "markdown",
   "id": "aa53e900-2015-4f9d-80e0-5523f866382a",
   "metadata": {},
   "source": [
    "#### 我们可以看到现在没有文本内容，但有一个工具调用。它希望我们调用 Tavily Search 工具。但是这还没有调用那个工具，它只是告诉我们去调用。为了实际调用它，需要创建我们的代理。"
   ]
  },
  {
   "cell_type": "markdown",
   "id": "0ba2c76d-ea74-459d-bbdf-35479a27585f",
   "metadata": {},
   "source": [
    "## 创建代理"
   ]
  },
  {
   "cell_type": "markdown",
   "id": "a16be0fc-7cb5-4b8d-a0ae-56099b7b42ee",
   "metadata": {},
   "source": [
    "#### 现在已经定义了工具和大型语言模型，我们可以创建代理。使用 LangGraph 来构建代理。 目前正在使用高级接口来构建代理，但LangGraph的好处在于，这个高级接口是由一个低级的、高度可控的API支持的，以防想要修改代理逻辑。现在，可以用大型语言模型和工具初始化代理。请注意，我们传入的是 model，而不是 model_with_tools。这是因为 create_react_agent 会在后台为我们调用 .bind_tools"
   ]
  },
  {
   "cell_type": "code",
   "execution_count": 12,
   "id": "3f8da634-122e-4dce-ad46-dde195e32d0e",
   "metadata": {},
   "outputs": [],
   "source": [
    "from langgraph.prebuilt import create_react_agent \n",
    "\n",
    "agent_executor = create_react_agent(model, tools)#创建一个反应式代理 React Agent 的函数"
   ]
  },
  {
   "cell_type": "markdown",
   "id": "d11934ba-d771-49e2-a9b7-7553d8b48d06",
   "metadata": {},
   "source": [
    "## 运行代理"
   ]
  },
  {
   "cell_type": "markdown",
   "id": "0a4c96fc-7d1f-482a-bc7c-ba60adef858a",
   "metadata": {},
   "source": [
    "现在可以在几个查询上运行代理。请注意，目前这些都是无状态查询（它不会记住之前的交互），代理将在交互结束时返回最终状态（包括任何输入）。当不需要调用工具时它的响应："
   ]
  },
  {
   "cell_type": "code",
   "execution_count": 13,
   "id": "5c8991bb-7f8c-4113-baaf-b7aca557e461",
   "metadata": {},
   "outputs": [
    {
     "data": {
      "text/plain": [
       "[HumanMessage(content='hi!', additional_kwargs={}, response_metadata={}, id='aecbbd8d-2aa0-45c0-afec-fb01e2dcfd9d'),\n",
       " AIMessage(content='Hello! How can I assist you today?', additional_kwargs={'refusal': None}, response_metadata={'token_usage': {'completion_tokens': 10, 'prompt_tokens': 84, 'total_tokens': 94, 'completion_tokens_details': None, 'prompt_tokens_details': None}, 'model_name': 'gpt-3.5-turbo', 'system_fingerprint': 'fp_808245b034', 'finish_reason': 'stop', 'logprobs': None}, id='run-92c9a60d-7145-4fbd-ac00-ac48c44fbcdb-0', usage_metadata={'input_tokens': 84, 'output_tokens': 10, 'total_tokens': 94, 'input_token_details': {}, 'output_token_details': {}})]"
      ]
     },
     "execution_count": 13,
     "metadata": {},
     "output_type": "execute_result"
    }
   ],
   "source": [
    "response = agent_executor.invoke({\"messages\": [HumanMessage(content=\"hi!\")]}) #\n",
    "response[\"messages\"]"
   ]
  },
  {
   "cell_type": "markdown",
   "id": "e725e79f-4743-4209-9d95-8e3023d64d9f",
   "metadata": {},
   "source": [
    "让我们在一个应该调用工具的示例上试试：在这个过程中，模型不仅生成文本响应，还可能触发工具（如天气查询工具）来获取所需的数据。"
   ]
  },
  {
   "cell_type": "code",
   "execution_count": 14,
   "id": "5975a85d-455d-4b59-a835-feccb6be3da9",
   "metadata": {},
   "outputs": [
    {
     "data": {
      "text/plain": [
       "[HumanMessage(content='whats the weather in Chongqing?', additional_kwargs={}, response_metadata={}, id='5ee68acd-1842-4b09-a61e-666b1f346b8b'),\n",
       " AIMessage(content='', additional_kwargs={'tool_calls': [{'id': 'call_zT4m7EqWkvoCQFluEmva4S01', 'function': {'arguments': '{\"__arg1\":\"Chongqing\"}', 'name': 'WeatherTool'}, 'type': 'function'}], 'refusal': None}, response_metadata={'token_usage': {'completion_tokens': 19, 'prompt_tokens': 91, 'total_tokens': 110, 'completion_tokens_details': None, 'prompt_tokens_details': None}, 'model_name': 'gpt-3.5-turbo', 'system_fingerprint': 'fp_0165350fbb', 'finish_reason': 'tool_calls', 'logprobs': None}, id='run-56b53812-594a-44c3-a16d-af711e971307-0', tool_calls=[{'name': 'WeatherTool', 'args': {'__arg1': 'Chongqing'}, 'id': 'call_zT4m7EqWkvoCQFluEmva4S01', 'type': 'tool_call'}], usage_metadata={'input_tokens': 91, 'output_tokens': 19, 'total_tokens': 110, 'input_token_details': {}, 'output_token_details': {}}),\n",
       " ToolMessage(content='The weather in Chongqing is sunny.', name='WeatherTool', id='d62512bf-dfc7-4413-a2d9-f937c7fbec10', tool_call_id='call_zT4m7EqWkvoCQFluEmva4S01'),\n",
       " AIMessage(content='The weather in Chongqing is sunny.', additional_kwargs={'refusal': None}, response_metadata={'token_usage': {'completion_tokens': 10, 'prompt_tokens': 127, 'total_tokens': 137, 'completion_tokens_details': None, 'prompt_tokens_details': None}, 'model_name': 'gpt-3.5-turbo', 'system_fingerprint': 'fp_808245b034', 'finish_reason': 'stop', 'logprobs': None}, id='run-62be7595-9dae-4ddf-8e8d-076a72f92cf9-0', usage_metadata={'input_tokens': 127, 'output_tokens': 10, 'total_tokens': 137, 'input_token_details': {}, 'output_token_details': {}})]"
      ]
     },
     "execution_count": 14,
     "metadata": {},
     "output_type": "execute_result"
    }
   ],
   "source": [
    "response = agent_executor.invoke(\n",
    "    {\"messages\": [HumanMessage(content=\"whats the weather in Chongqing?\")]}\n",
    ")\n",
    "response[\"messages\"]"
   ]
  },
  {
   "cell_type": "markdown",
   "id": "65d5b269-849a-4446-85db-4b7928162957",
   "metadata": {},
   "source": [
    "## 流式消息"
   ]
  },
  {
   "cell_type": "markdown",
   "id": "9baf47d2-3a0c-4d23-992b-ef4063b7129c",
   "metadata": {},
   "source": [
    "#### 上面已经看到如何使用 .invoke 调用代理以获取最终响应。如果代理正在执行多个步骤，这可能需要一些时间。为了显示中间进度，我们可以在消息发生时流式返回消息"
   ]
  },
  {
   "cell_type": "code",
   "execution_count": 15,
   "id": "96d3142d-f0fa-4838-9b76-419d844484eb",
   "metadata": {},
   "outputs": [
    {
     "name": "stdout",
     "output_type": "stream",
     "text": [
      "{'agent': {'messages': [AIMessage(content='', additional_kwargs={'tool_calls': [{'id': 'call_iZuYTjZrRHW0JymUIQx7jRCd', 'function': {'arguments': '{\"__arg1\":\"San Francisco\"}', 'name': 'WeatherTool'}, 'type': 'function'}], 'refusal': None}, response_metadata={'token_usage': {'completion_tokens': 18, 'prompt_tokens': 89, 'total_tokens': 107, 'completion_tokens_details': None, 'prompt_tokens_details': None}, 'model_name': 'gpt-3.5-turbo', 'system_fingerprint': 'fp_44b923fd7f', 'finish_reason': 'tool_calls', 'logprobs': None}, id='run-08f74809-8554-43f0-a739-e71c0b2686b7-0', tool_calls=[{'name': 'WeatherTool', 'args': {'__arg1': 'San Francisco'}, 'id': 'call_iZuYTjZrRHW0JymUIQx7jRCd', 'type': 'tool_call'}], usage_metadata={'input_tokens': 89, 'output_tokens': 18, 'total_tokens': 107, 'input_token_details': {}, 'output_token_details': {}})]}}\n",
      "----\n",
      "{'tools': {'messages': [ToolMessage(content='The weather in San Francisco is sunny.', name='WeatherTool', id='4404fcd6-5f1c-4312-8a28-2660ec6c3414', tool_call_id='call_iZuYTjZrRHW0JymUIQx7jRCd')]}}\n",
      "----\n",
      "{'agent': {'messages': [AIMessage(content='The weather in San Francisco is sunny.', additional_kwargs={'refusal': None}, response_metadata={'token_usage': {'completion_tokens': 9, 'prompt_tokens': 123, 'total_tokens': 132, 'completion_tokens_details': None, 'prompt_tokens_details': None}, 'model_name': 'gpt-3.5-turbo', 'system_fingerprint': 'fp_0165350fbb', 'finish_reason': 'stop', 'logprobs': None}, id='run-c2f5300f-71af-4579-81b1-ae089db267b2-0', usage_metadata={'input_tokens': 123, 'output_tokens': 9, 'total_tokens': 132, 'input_token_details': {}, 'output_token_details': {}})]}}\n",
      "----\n"
     ]
    }
   ],
   "source": [
    "for chunk in agent_executor.stream(\n",
    "    {\"messages\": [HumanMessage(content=\"whats the weather in sf?\")]}\n",
    "):\n",
    "    print(chunk)\n",
    "    print(\"----\")"
   ]
  },
  {
   "cell_type": "markdown",
   "id": "ec2b9af7-ea75-4b5d-9c20-5be3bdcb4739",
   "metadata": {},
   "source": [
    "### 流式令牌"
   ]
  },
  {
   "cell_type": "markdown",
   "id": "f7f93762-b547-4d66-babf-b7f69b8f1d27",
   "metadata": {},
   "source": [
    "#### 除了流式返回消息，流式返回令牌也是有用的。 可以使用 .astream_events 方法来实现这一点"
   ]
  },
  {
   "cell_type": "code",
   "execution_count": 16,
   "id": "bcd874b2-dda8-469b-a4e5-2e8356f4764d",
   "metadata": {},
   "outputs": [
    {
     "name": "stdout",
     "output_type": "stream",
     "text": [
      "--\n",
      "Starting tool: WeatherTool with inputs: {'__arg1': 'San Francisco'}\n",
      "Done tool: WeatherTool\n",
      "Tool output was: content='The weather in San Francisco is sunny.' name='WeatherTool' tool_call_id='call_T1lMVI6i2iZriaHIGch3k6MV'\n",
      "--\n",
      "The| weather| in| San| Francisco| is| sunny|.|"
     ]
    }
   ],
   "source": [
    "async for event in agent_executor.astream_events(\n",
    "    {\"messages\": [HumanMessage(content=\"whats the weather in SF?\")]}, version=\"v1\"\n",
    "):\n",
    "    kind = event[\"event\"]\n",
    "    if kind == \"on_chain_start\":\n",
    "        if (\n",
    "            event[\"name\"] == \"Agent\"\n",
    "        ):  # Was assigned when creating the agent with `.with_config({\"run_name\": \"Agent\"})`\n",
    "            print(\n",
    "                f\"Starting agent: {event['name']} with input: {event['data'].get('input')}\"\n",
    "            )\n",
    "    elif kind == \"on_chain_end\":\n",
    "        if (\n",
    "            event[\"name\"] == \"Agent\"\n",
    "        ):  # Was assigned when creating the agent with `.with_config({\"run_name\": \"Agent\"})`\n",
    "            print()\n",
    "            print(\"--\")\n",
    "            print(\n",
    "                f\"Done agent: {event['name']} with output: {event['data'].get('output')['output']}\"\n",
    "            )\n",
    "    if kind == \"on_chat_model_stream\":\n",
    "        content = event[\"data\"][\"chunk\"].content\n",
    "        if content:\n",
    "            # Empty content in the context of OpenAI means\n",
    "            # that the model is asking for a tool to be invoked.\n",
    "            # So we only print non-empty content\n",
    "            print(content, end=\"|\")\n",
    "    elif kind == \"on_tool_start\":\n",
    "        print(\"--\")\n",
    "        print(\n",
    "            f\"Starting tool: {event['name']} with inputs: {event['data'].get('input')}\"\n",
    "        )\n",
    "    elif kind == \"on_tool_end\":\n",
    "        print(f\"Done tool: {event['name']}\")\n",
    "        print(f\"Tool output was: {event['data'].get('output')}\")\n",
    "        print(\"--\")"
   ]
  },
  {
   "cell_type": "markdown",
   "id": "b9caa1e1-d9f0-45b0-bfb0-497ff1e5d6b4",
   "metadata": {},
   "source": [
    "### 添加内存"
   ]
  },
  {
   "cell_type": "markdown",
   "id": "c57ab1bc-f3d6-4479-943d-276f960f4cf1",
   "metadata": {},
   "source": [
    "#### 如前所述，该代理是无状态的。这意味着它不记得之前的交互。为了给它添加内存，我们需要传入一个检查点。当传入检查点时，我们还必须在调用代理时传入 thread_id（以便它知道从哪个线程/对话恢复）。"
   ]
  },
  {
   "cell_type": "code",
   "execution_count": 17,
   "id": "64ad9da8-78da-4088-ac70-afbfbca63ce8",
   "metadata": {},
   "outputs": [],
   "source": [
    "from langgraph.checkpoint.memory import MemorySaver\n",
    "\n",
    "memory = MemorySaver()"
   ]
  },
  {
   "cell_type": "code",
   "execution_count": 18,
   "id": "89dcbc19-4827-4fff-8551-e0f862ab4b52",
   "metadata": {},
   "outputs": [],
   "source": [
    "agent_executor = create_react_agent(model, tools, checkpointer=memory)\n",
    "\n",
    "config = {\"configurable\": {\"thread_id\": \"abc123\"}}"
   ]
  },
  {
   "cell_type": "code",
   "execution_count": 19,
   "id": "b7b724a9-4ca4-4666-8dd7-fc9c61fd51f0",
   "metadata": {},
   "outputs": [
    {
     "name": "stdout",
     "output_type": "stream",
     "text": [
      "{'agent': {'messages': [AIMessage(content='Hello! How can I assist you today?', additional_kwargs={'refusal': None}, response_metadata={'token_usage': {'completion_tokens': 10, 'prompt_tokens': 86, 'total_tokens': 96, 'completion_tokens_details': None, 'prompt_tokens_details': None}, 'model_name': 'gpt-3.5-turbo', 'system_fingerprint': 'fp_808245b034', 'finish_reason': 'stop', 'logprobs': None}, id='run-e7ffd7bb-bb06-4b9b-ac29-f1bc8f0c6d1a-0', usage_metadata={'input_tokens': 86, 'output_tokens': 10, 'total_tokens': 96, 'input_token_details': {}, 'output_token_details': {}})]}}\n",
      "----\n"
     ]
    }
   ],
   "source": [
    "for chunk in agent_executor.stream(\n",
    "    {\"messages\": [HumanMessage(content=\"hi im baby!\")]}, config\n",
    "):\n",
    "    print(chunk)\n",
    "    print(\"----\")"
   ]
  },
  {
   "cell_type": "code",
   "execution_count": 20,
   "id": "1104bd34-63d4-4380-a962-33050f6e48f1",
   "metadata": {},
   "outputs": [
    {
     "name": "stdout",
     "output_type": "stream",
     "text": [
      "{'agent': {'messages': [AIMessage(content=\"I'm sorry, but I don't have access to your personal information. How can I assist you today?\", additional_kwargs={'refusal': None}, response_metadata={'token_usage': {'completion_tokens': 23, 'prompt_tokens': 108, 'total_tokens': 131, 'completion_tokens_details': None, 'prompt_tokens_details': None}, 'model_name': 'gpt-3.5-turbo', 'system_fingerprint': 'fp_0165350fbb', 'finish_reason': 'stop', 'logprobs': None}, id='run-bf20548f-9dbb-4c0b-9ddb-825f5f09a44e-0', usage_metadata={'input_tokens': 108, 'output_tokens': 23, 'total_tokens': 131, 'input_token_details': {}, 'output_token_details': {}})]}}\n",
      "----\n"
     ]
    }
   ],
   "source": [
    "for chunk in agent_executor.stream(\n",
    "    {\"messages\": [HumanMessage(content=\"whats my name?\")]}, config\n",
    "):\n",
    "    print(chunk)\n",
    "    print(\"----\")"
   ]
  },
  {
   "cell_type": "code",
   "execution_count": null,
   "id": "473a925c-5c71-4900-9573-d6e1010c1c3d",
   "metadata": {},
   "outputs": [],
   "source": []
  }
 ],
 "metadata": {
  "kernelspec": {
   "display_name": "Python 3 (ipykernel)",
   "language": "python",
   "name": "python3"
  },
  "language_info": {
   "codemirror_mode": {
    "name": "ipython",
    "version": 3
   },
   "file_extension": ".py",
   "mimetype": "text/x-python",
   "name": "python",
   "nbconvert_exporter": "python",
   "pygments_lexer": "ipython3",
   "version": "3.10.16"
  }
 },
 "nbformat": 4,
 "nbformat_minor": 5
}
